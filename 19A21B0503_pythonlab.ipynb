{
  "nbformat": 4,
  "nbformat_minor": 0,
  "metadata": {
    "colab": {
      "name": "19A21B0503.pythonlab",
      "provenance": [],
      "authorship_tag": "ABX9TyPxh46Cyxn5TJBEwgl3BLQH",
      "include_colab_link": true
    },
    "kernelspec": {
      "name": "python3",
      "display_name": "Python 3"
    },
    "language_info": {
      "name": "python"
    }
  },
  "cells": [
    {
      "cell_type": "markdown",
      "metadata": {
        "id": "view-in-github",
        "colab_type": "text"
      },
      "source": [
        "<a href=\"https://colab.research.google.com/github/prinkuadapa/python-lab/blob/main/19A21B0503_pythonlab.ipynb\" target=\"_parent\"><img src=\"https://colab.research.google.com/assets/colab-badge.svg\" alt=\"Open In Colab\"/></a>"
      ]
    },
    {
      "cell_type": "code",
      "metadata": {
        "id": "8JdnkALgOwP5"
      },
      "source": [
        ""
      ],
      "execution_count": null,
      "outputs": []
    },
    {
      "cell_type": "markdown",
      "metadata": {
        "id": "s5gc3oZ3OyS7"
      },
      "source": [
        " Name : Lakshmi Priyanka.A\n",
        " \n",
        "Reg no : 19A21B0503\n",
        " \n",
        "Sec : cse-shift"
      ]
    },
    {
      "cell_type": "markdown",
      "metadata": {
        "id": "sGy16KjdPk5p"
      },
      "source": [
        "  EXCERSICE-1\n",
        " \n",
        "A.WRITE PROGRAM IN INTERACTIVE,INTERPRETER,PYHON SCRIPT MODE.\n",
        " \n",
        "B.Write a program to purposefully raise Indentation Error and Correct it"
      ]
    },
    {
      "cell_type": "code",
      "metadata": {
        "colab": {
          "base_uri": "https://localhost:8080/"
        },
        "id": "lhqvHA0fP4lu",
        "outputId": "b7f3fe52-5a94-49c5-8777-bc6fedd97929"
      },
      "source": [
        " \n",
        " \n",
        " a=78\n",
        "b=89\n",
        "a,b=b,a\n",
        "print(a,b)"
      ],
      "execution_count": null,
      "outputs": [
        {
          "output_type": "stream",
          "text": [
            "89 78\n"
          ],
          "name": "stdout"
        }
      ]
    },
    {
      "cell_type": "code",
      "metadata": {
        "colab": {
          "base_uri": "https://localhost:8080/"
        },
        "id": "UJ-rPHsottR4",
        "outputId": "8637b2a0-f8b2-4014-cc96-b03ca54bab5e"
      },
      "source": [
        " \n",
        " a=input(\"enter a vlaue:\")\n",
        "b=input(\"enter b value:\")\n",
        "c=a+b;\n",
        "print(\"sum is \",c,sep=\"\\t\")\n",
        "c=int(a)+int(b)\n",
        "print(\"sum of {} and {} is : {}\".format(a,b,c))\n",
        "print(\"sum of %s and %s is:%d\"%(a,b,c))\n",
        "x=10\n",
        "y=123\n",
        "z=x+y;\n",
        "print(\"sum is\",z,sep='\\t' )"
      ],
      "execution_count": null,
      "outputs": [
        {
          "output_type": "stream",
          "text": [
            "enter a vlaue:14\n",
            "enter b value:23\n",
            "sum is \t1423\n",
            "sum of 14 and 23 is : 37\n",
            "sum of 14 and 23 is:37\n",
            "sum is\t133\n"
          ],
          "name": "stdout"
        }
      ]
    },
    {
      "cell_type": "code",
      "metadata": {
        "colab": {
          "base_uri": "https://localhost:8080/",
          "height": 145
        },
        "id": "g8CsxyYV0Yea",
        "outputId": "ec781af7-3bd7-403d-8926-5436659dd657"
      },
      "source": [
        "Error program\n",
        " \n",
        "print(\"Welcome to python\")\n",
        "a=10\n",
        "b=20\n",
        "print(\"Value of a: \",a)\n",
        "print(\"Value of b: \",b)\n",
        "if a>b:\n",
        "   print(\"a is big\")\n",
        "      print(\"a= \",a)\n",
        "else:\n",
        "  print(\"b is big\")\n",
        "     print(\"b=\",b)"
      ],
      "execution_count": null,
      "outputs": [
        {
          "output_type": "error",
          "ename": "SyntaxError",
          "evalue": "ignored",
          "traceback": [
            "\u001b[0;36m  File \u001b[0;32m\"<ipython-input-2-5b7276184e76>\"\u001b[0;36m, line \u001b[0;32m1\u001b[0m\n\u001b[0;31m    Error program\u001b[0m\n\u001b[0m                ^\u001b[0m\n\u001b[0;31mSyntaxError\u001b[0m\u001b[0;31m:\u001b[0m invalid syntax\n"
          ]
        }
      ]
    },
    {
      "cell_type": "code",
      "metadata": {
        "colab": {
          "base_uri": "https://localhost:8080/"
        },
        "id": "LX50LPkdQp-h",
        "outputId": "b1bbaf9c-893f-4823-c881-aaaabea16fc1"
      },
      "source": [
        "Corrected program\n",
        " \n",
        " print(\"welcome to python\")\n",
        "a=20\n",
        "b=30\n",
        "print(\"the value of a:\",a)\n",
        "print(\"the value of b :\",b)\n",
        "if(a>b):\n",
        "       print(\"a is big\");\n",
        "       print(\"ifbblock ends\")\n",
        "else:\n",
        "            print(\"b is big\")\n",
        "            print(\"elseblock ends\")"
      ],
      "execution_count": null,
      "outputs": [
        {
          "output_type": "stream",
          "text": [
            "welcome to python\n",
            "the value of a: 20\n",
            "the value of b : 30\n",
            "b is big\n",
            "elseblock ends\n"
          ],
          "name": "stdout"
        }
      ]
    },
    {
      "cell_type": "markdown",
      "metadata": {
        "id": "EGhGIfs0Q1aM"
      },
      "source": [
        "  \n",
        "EXERCISE-2\n",
        " \n",
        "A.COMPUTE DISTANCE BETWEEN TWO POINTS\n",
        " \n",
        "B.TAKE TWO NUMBERS ON COMMAND LINE ARGUMENTS AND PRINT THE SUM."
      ]
    },
    {
      "cell_type": "code",
      "metadata": {
        "colab": {
          "base_uri": "https://localhost:8080/"
        },
        "id": "NuDZEC3DRDP5",
        "outputId": "44b62f7b-971a-46d8-ed9b-83973b842855"
      },
      "source": [
        " \n",
        " x1=10\n",
        "x2=80\n",
        "y1=12\n",
        "y2=20\n",
        "z=(pow((x2-x1),2)+pow((y2-y1),2))**0.5\n",
        "print(z)"
      ],
      "execution_count": null,
      "outputs": [
        {
          "output_type": "stream",
          "text": [
            "70.45565981523414\n"
          ],
          "name": "stdout"
        }
      ]
    },
    {
      "cell_type": "code",
      "metadata": {
        "colab": {
          "base_uri": "https://localhost:8080/"
        },
        "id": "YmEIdHkPRMF-",
        "outputId": "ec8ac47c-77d8-4edb-8a09-7f55a9ad5258"
      },
      "source": [
        " \n",
        "60\n",
        "import math\n",
        "x1=int(input(\"enter  x1 value:\"))\n",
        "x2=int(input(\"enter  x2 value:\"))\n",
        "y1=int(input(\"enter  y1 value:\"))\n",
        "y2=int(input(\"enter  y2 value:\"))\n",
        "z=math.sqrt((x2-x1)**2+(y2-y1)**2)\n",
        "print(\"the distance between two points is :\",z)\n",
        "print(\"the distance between two points is :\",z,sep='\\t')\n",
        "print(\"the distance between ({}, {})and ({},{}) is  :{}\".format(x1,y1,x2,y2,z))\n",
        " \n",
        "print(\"the distance between (%d, %d)and (%d,%d) is  :%f\"%(x1,y1,x2,y2,z))"
      ],
      "execution_count": null,
      "outputs": [
        {
          "output_type": "stream",
          "text": [
            "enter  x1 value:3\n",
            "enter  x2 value:9\n",
            "enter  y1 value:6\n",
            "enter  y2 value:9\n",
            "the distance between two points is : 6.708203932499369\n",
            "the distance between two points is :\t6.708203932499369\n",
            "the distance between (3, 6)and (9,9) is  :6.708203932499369\n",
            "the distance between (3, 6)and (9,9) is  :6.708204\n"
          ],
          "name": "stdout"
        }
      ]
    },
    {
      "cell_type": "code",
      "metadata": {
        "colab": {
          "base_uri": "https://localhost:8080/",
          "height": 332
        },
        "id": "sPObpF0DRt9B",
        "outputId": "f6e0b9fb-e545-49d4-c822-39433ca4afdd"
      },
      "source": [
        " \n",
        " \n",
        "import sys\n",
        "a=int(sys.argv[1])\n",
        "b=int(sys.argv[2])\n",
        "sum=a+b\n",
        "print(\"sum of two numbers is:\",sum)"
      ],
      "execution_count": null,
      "outputs": [
        {
          "output_type": "error",
          "ename": "ValueError",
          "evalue": "ignored",
          "traceback": [
            "\u001b[0;31m---------------------------------------------------------------------------\u001b[0m",
            "\u001b[0;31mValueError\u001b[0m                                Traceback (most recent call last)",
            "\u001b[0;32m<ipython-input-7-bdcc6b18deae>\u001b[0m in \u001b[0;36m<module>\u001b[0;34m()\u001b[0m\n\u001b[1;32m      2\u001b[0m \u001b[0;34m\u001b[0m\u001b[0m\n\u001b[1;32m      3\u001b[0m \u001b[0;32mimport\u001b[0m \u001b[0msys\u001b[0m\u001b[0;34m\u001b[0m\u001b[0;34m\u001b[0m\u001b[0m\n\u001b[0;32m----> 4\u001b[0;31m \u001b[0ma\u001b[0m\u001b[0;34m=\u001b[0m\u001b[0mint\u001b[0m\u001b[0;34m(\u001b[0m\u001b[0msys\u001b[0m\u001b[0;34m.\u001b[0m\u001b[0margv\u001b[0m\u001b[0;34m[\u001b[0m\u001b[0;36m1\u001b[0m\u001b[0;34m]\u001b[0m\u001b[0;34m)\u001b[0m\u001b[0;34m\u001b[0m\u001b[0;34m\u001b[0m\u001b[0m\n\u001b[0m\u001b[1;32m      5\u001b[0m \u001b[0mb\u001b[0m\u001b[0;34m=\u001b[0m\u001b[0mint\u001b[0m\u001b[0;34m(\u001b[0m\u001b[0msys\u001b[0m\u001b[0;34m.\u001b[0m\u001b[0margv\u001b[0m\u001b[0;34m[\u001b[0m\u001b[0;36m2\u001b[0m\u001b[0;34m]\u001b[0m\u001b[0;34m)\u001b[0m\u001b[0;34m\u001b[0m\u001b[0;34m\u001b[0m\u001b[0m\n\u001b[1;32m      6\u001b[0m \u001b[0msum\u001b[0m\u001b[0;34m=\u001b[0m\u001b[0ma\u001b[0m\u001b[0;34m+\u001b[0m\u001b[0mb\u001b[0m\u001b[0;34m\u001b[0m\u001b[0;34m\u001b[0m\u001b[0m\n",
            "\u001b[0;31mValueError\u001b[0m: invalid literal for int() with base 10: '-f'"
          ]
        }
      ]
    },
    {
      "cell_type": "markdown",
      "metadata": {
        "id": "Ro8hu3GdRzxa"
      },
      "source": [
        " EXCERSCISE-3\n",
        " \n",
        "A) Write a Program for checking whether the given number is an even number or not.\n",
        " \n",
        "b) Using a for loop, write a program that prints out the decimal equivalents of 1/2, 1/3, 1/4, . . .1/10\n",
        " \n",
        "c) Write a program using a for loop that loops over a sequence. What is sequence?\n",
        " \n",
        "d) Write a program using a while loop that asks the user for a number, and prints a countdownfrom that number to zero"
      ]
    },
    {
      "cell_type": "code",
      "metadata": {
        "colab": {
          "base_uri": "https://localhost:8080/"
        },
        "id": "URM6UdsBR1r6",
        "outputId": "b01232c6-56da-40a1-9d18-02d69493c685"
      },
      "source": [
        " \n",
        " n=int(input(\"enter a number:\"))\n",
        "if (n%2)==0:\n",
        "        print(\"given number is even\")\n",
        "else:\n",
        "      print(\"given number is odd\")"
      ],
      "execution_count": null,
      "outputs": [
        {
          "output_type": "stream",
          "text": [
            "enter a number:3\n",
            "given number is odd\n"
          ],
          "name": "stdout"
        }
      ]
    },
    {
      "cell_type": "code",
      "metadata": {
        "colab": {
          "base_uri": "https://localhost:8080/"
        },
        "id": "kMiVEFkqR_c6",
        "outputId": "ff91c7d1-81f4-4dee-f076-c55c0f44ac7b"
      },
      "source": [
        " \n",
        " n=int(input(\"enter a number:\"))\n",
        "for i in range(2,n):\n",
        "    de=1/i;\n",
        "    print(\"1/\",i,\"=\",de)"
      ],
      "execution_count": null,
      "outputs": [
        {
          "output_type": "stream",
          "text": [
            "enter a number:6\n",
            "1/ 2 = 0.5\n",
            "1/ 3 = 0.3333333333333333\n",
            "1/ 4 = 0.25\n",
            "1/ 5 = 0.2\n"
          ],
          "name": "stdout"
        }
      ]
    },
    {
      "cell_type": "code",
      "metadata": {
        "colab": {
          "base_uri": "https://localhost:8080/"
        },
        "id": "W-ydJVTxSMDp",
        "outputId": "6d26d7c2-1581-4c21-86be-8f5df855d66d"
      },
      "source": [
        " \n",
        " #program using a for a loop that loops over a sequence\n",
        "print(\"loop sequence\")\n",
        "num=[45,25,2,28,3,25]\n",
        "for i in num:\n",
        "    print(i)\n",
        " \n",
        "#string sequence\n",
        "print(\"string sequence\")\n",
        "days=[\"sun\",\"mon\",\"tue\",\"wed\",\"thur\",\"fri\",\"st\"]\n",
        "for d in days:\n",
        "    print(d)\n",
        "    \n",
        "#bothh sequence\n",
        "print(\"sequence\")\n",
        "arr=[123,\"abc\",5.6,'h',-33,\"xy\",True]\n",
        "for x in arr:\n",
        "      print(x)"
      ],
      "execution_count": null,
      "outputs": [
        {
          "output_type": "stream",
          "text": [
            "loop sequence\n",
            "45\n",
            "25\n",
            "2\n",
            "28\n",
            "3\n",
            "25\n",
            "string sequence\n",
            "sun\n",
            "mon\n",
            "tue\n",
            "wed\n",
            "thur\n",
            "fri\n",
            "st\n",
            "sequence\n",
            "123\n",
            "abc\n",
            "5.6\n",
            "h\n",
            "-33\n",
            "xy\n",
            "True\n"
          ],
          "name": "stdout"
        }
      ]
    },
    {
      "cell_type": "code",
      "metadata": {
        "colab": {
          "base_uri": "https://localhost:8080/"
        },
        "id": "McaDuwdvSVyg",
        "outputId": "dc92a214-7511-4ebc-99b8-8f104e1b0f83"
      },
      "source": [
        " \n",
        " #countdown seq\n",
        "n=int(input(\"enter the numbr:\"))\n",
        "while n>0:\n",
        "      print(n)\n",
        "      n=n-1"
      ],
      "execution_count": null,
      "outputs": [
        {
          "output_type": "stream",
          "text": [
            "enter the numbr:5\n",
            "5\n",
            "4\n",
            "3\n",
            "2\n",
            "1\n"
          ],
          "name": "stdout"
        }
      ]
    },
    {
      "cell_type": "markdown",
      "metadata": {
        "id": "pn5IsgpCSui3"
      },
      "source": [
        "   EXCERCISE-4 \n",
        " \n",
        " \n",
        "a) Find the sum of all the primes below two million. Each new term in the Fibonacci sequence is generated by adding the previous two terms. Bystarting with 1 and 2, the first 10 terms will be: 1, 2, 3, 5, 8, 13, 21, 34, 55, 89, ...\n",
        " \n",
        " \n",
        "b) By considering the terms in the Fibonacci sequence whose values do not exceed four million,find the sum of the even-valued terms."
      ]
    },
    {
      "cell_type": "code",
      "metadata": {
        "colab": {
          "base_uri": "https://localhost:8080/"
        },
        "id": "9U8PpG1PSx3o",
        "outputId": "8ac2bb5e-36ae-4800-bf65-161da515d7e7"
      },
      "source": [
        " \n",
        " n=int(input(\"enter a num:\"))\n",
        "a=0\n",
        "b=1\n",
        "c=a+b\n",
        "st=\"\"\n",
        "sum=0\n",
        "con=0\n",
        "while con<=n:\n",
        "    st+=\"\"+str(c)\n",
        "    sum+=c        \n",
        "    a=b\n",
        "    b=c \n",
        "    c=a+b\n",
        "    con+=1\n",
        "print(st)\n",
        "print(\"sum of fibonacii series:\",sum)"
      ],
      "execution_count": null,
      "outputs": [
        {
          "output_type": "stream",
          "text": [
            "enter a num:5\n",
            "1235813\n",
            "sum of fibonacii series: 32\n"
          ],
          "name": "stdout"
        }
      ]
    },
    {
      "cell_type": "code",
      "metadata": {
        "id": "3Xil3i30pkrc",
        "colab": {
          "base_uri": "https://localhost:8080/"
        },
        "outputId": "6f9fb4bc-3fb2-44c4-ac0d-2bda1b0e5b94"
      },
      "source": [
        " \n",
        "#Fibanocci Series\n",
        "n=int(input(\"Enter value of n:\"))\n",
        "a=0\n",
        "b=1\n",
        "c=a+b\n",
        "while c<n:\n",
        "  print(c,end='')\n",
        "  a=b\n",
        "  b=c\n",
        "  c=a+b"
      ],
      "execution_count": null,
      "outputs": [
        {
          "output_type": "stream",
          "text": [
            "Enter value of n:3\n",
            "12"
          ],
          "name": "stdout"
        }
      ]
    },
    {
      "cell_type": "markdown",
      "metadata": {
        "id": "HMasRNaTTPmm"
      },
      "source": [
        "  EXCERCISE-5\n",
        " \n",
        " \n",
        "DS\n",
        " \n",
        " \n",
        "a) Write a program to count the numbers of characters in the string and store them in adictionary data structure\n",
        " \n",
        " \n",
        "b) Write a program to use split and join methods in the string and trace a birthday with adictionary data\n",
        "structure."
      ]
    },
    {
      "cell_type": "code",
      "metadata": {
        "colab": {
          "base_uri": "https://localhost:8080/"
        },
        "id": "hKycpEoLTSfd",
        "outputId": "c2eb9d96-1c0b-48c6-8586-d88b203b0530"
      },
      "source": [
        " \n",
        " name=input(\"enter a name:\")\n",
        "dic={}\n",
        "for ch in name:\n",
        "    keys=dic.keys()\n",
        " \n",
        "    if(ch in keys):\n",
        "        dic[ch]=dic[ch]+1\n",
        "    else:\n",
        "        dic[ch]=1\n",
        " \n",
        "print(\"dictinarry is:\",dic)"
      ],
      "execution_count": null,
      "outputs": [
        {
          "output_type": "stream",
          "text": [
            "enter a name:Priyanka\n",
            "dictinarry is: {'P': 1, 'r': 1, 'i': 1, 'y': 1, 'a': 2, 'n': 1, 'k': 1}\n"
          ],
          "name": "stdout"
        }
      ]
    },
    {
      "cell_type": "code",
      "metadata": {
        "colab": {
          "base_uri": "https://localhost:8080/"
        },
        "id": "8HoNAF7YTccc",
        "outputId": "9ec44602-53ad-4b8d-c62e-0481f77cad39"
      },
      "source": [
        " \n",
        " dob={\"priyanka\":\"31-07-2002\",\"sailu\":\"30-07-2002\"}\n",
        "name=input(\"enter which person dob u want:\")\n",
        "l=name.split()\n",
        "birth=\"\"\n",
        "for i in l:\n",
        "    if i in dob.keys():\n",
        "        pers=i\n",
        " \n",
        "print(\"\".join([pers,\"birthdayis:\",dob[pers]]))"
      ],
      "execution_count": null,
      "outputs": [
        {
          "output_type": "stream",
          "text": [
            "enter which person dob u want:priyanka\n",
            "priyankabirthdayis:31-07-2002\n"
          ],
          "name": "stdout"
        }
      ]
    },
    {
      "cell_type": "markdown",
      "metadata": {
        "id": "c3HtcT7EUAT-"
      },
      "source": [
        "  EXERCISE-6 \n",
        " \n",
        " \n",
        "DS - Continued\n",
        " \n",
        " \n",
        "a) Write a program combinelists that combines these lists into a dictionary.\n",
        " \n",
        " \n",
        "b) Write a program to count frequency of characters in a given file. Can you use character frequency to tell whether the given file is a Python program file, C program file or a text file?"
      ]
    },
    {
      "cell_type": "code",
      "metadata": {
        "colab": {
          "base_uri": "https://localhost:8080/"
        },
        "id": "_HcZdI-OUBNq",
        "outputId": "588742e2-68c7-41c2-9e27-b82c016f0720"
      },
      "source": [
        " \n",
        " sub=[\"daa\",\"os\",\"dbms\",\"p&s\",\"ppl\",\"se\"]\n",
        "marks=[85,96,75,65,83,56]\n",
        "print(sub)\n",
        "print(marks)\n",
        "dic=dict(zip(sub,marks))\n",
        "print(dic)"
      ],
      "execution_count": null,
      "outputs": [
        {
          "output_type": "stream",
          "text": [
            "['daa', 'os', 'dbms', 'p&s', 'ppl', 'se']\n",
            "[85, 96, 75, 65, 83, 56]\n",
            "{'daa': 85, 'os': 96, 'dbms': 75, 'p&s': 65, 'ppl': 83, 'se': 56}\n"
          ],
          "name": "stdout"
        }
      ]
    },
    {
      "cell_type": "code",
      "metadata": {
        "id": "PemCW32BqIFw",
        "colab": {
          "base_uri": "https://localhost:8080/"
        },
        "outputId": "5b7019f7-526c-426d-cc61-8164105114bf"
      },
      "source": [
        " \n",
        "f=open(\"abc.txt\",\"w\")\n",
        "f.write(\"Welcome to python programming\")\n",
        "f.close()\n",
        " \n",
        " \n",
        "filetypes=['.py','.c','.txt']\n",
        "fn=input(\"Enter file name\")\n",
        "f=open(fn,\"r\")\n",
        "count=dict()\n",
        "for ft in filetypes:\n",
        "    if(ft in fn):\n",
        "      if(ft=='.py'):\n",
        "        print(\"Python file\")\n",
        "      elif(ft=='.c'):\n",
        "        print(\"C file\")\n",
        "      elif(ft=='.txt'):\n",
        "        print(\"Text file\")\n",
        "for line in f:\n",
        "     for ch in line:\n",
        "        if ch in count:\n",
        "           count[ch]=count[ch]+1\n",
        "        else:\n",
        "           count[ch]=1\n",
        "print(count)\n",
        "f.close()"
      ],
      "execution_count": null,
      "outputs": [
        {
          "output_type": "stream",
          "text": [
            "Enter file nameabc.txt\n",
            "Text file\n",
            "{'W': 1, 'e': 2, 'l': 1, 'c': 1, 'o': 4, 'm': 3, ' ': 3, 't': 2, 'p': 2, 'y': 1, 'h': 1, 'n': 2, 'r': 2, 'g': 2, 'a': 1, 'i': 1}\n"
          ],
          "name": "stdout"
        }
      ]
    },
    {
      "cell_type": "markdown",
      "metadata": {
        "id": "e2id0Rw3UlvK"
      },
      "source": [
        "  EXCERCISE-\n",
        " \n",
        " 7 files\n",
        " \n",
        "a) Write a program to print each line of a file in reverse order\n",
        " \n",
        "b) Write a program to compute the number of characters, words and lines in a file."
      ]
    },
    {
      "cell_type": "code",
      "metadata": {
        "id": "W_A3Bt_oqgbh",
        "colab": {
          "base_uri": "https://localhost:8080/"
        },
        "outputId": "c6450d07-c737-4a5d-8853-d7561ac644c3"
      },
      "source": [
        " \n",
        "f=open(\"abc.txt\",\"w\")\n",
        "f.write(\"Welcome to python programming\")\n",
        "f.close()\n",
        " \n",
        "obj=open(\"abc.txt\",\"r\")\n",
        "if obj:\n",
        "    st=obj.read()\n",
        "    print(\"File content is: \\n\",st)\n",
        "obj.close()\n",
        "print()\n",
        "lines=st.split('\\n')\n",
        " \n",
        "for ln in lines:\n",
        "    i=len(ln)-1\n",
        "    while(i>=0):\n",
        "        print(ln[i],end='')\n",
        "        i=i-1\n",
        "    print()"
      ],
      "execution_count": null,
      "outputs": [
        {
          "output_type": "stream",
          "text": [
            "File content is: \n",
            " Welcome to python programming\n",
            "\n",
            "gnimmargorp nohtyp ot emocleW\n"
          ],
          "name": "stdout"
        }
      ]
    },
    {
      "cell_type": "code",
      "metadata": {
        "colab": {
          "base_uri": "https://localhost:8080/"
        },
        "id": "v2aU73karr3T",
        "outputId": "dcc63fbc-fc6b-4285-9f82-2ae60183f278"
      },
      "source": [
        " \n",
        "f=open(\"abc.txt\",\"w\")\n",
        "lst=[\"Welcome\",\" to\",\" python\",\" programming\",\"\\n\",\"Swarnandhra \",\"college\",\"of\",\"and\",\"engineering \",\"technology\"]\n",
        "f.writelines(lst)\n",
        "f.close()\n",
        " \n",
        " \n",
        "nl=nc=nw=0\n",
        "obj=open(\"abc.txt\",\"r\")\n",
        "lines=obj.readlines()\n",
        " \n",
        "for ln in lines:\n",
        "    nl+=1                #count lines\n",
        "    words=ln.split()      #split words\n",
        "    nw+=len(words)       #count words\n",
        "    nc+=len(ln)           #count characters\n",
        "obj.close()\n",
        "print(\"Number of lines: \",nl)\n",
        "print(\"Number of words: \",nw)\n",
        "print(\"Number of characters: \",nc)"
      ],
      "execution_count": null,
      "outputs": [
        {
          "output_type": "stream",
          "text": [
            "Number of lines:  2\n",
            "Number of words:  7\n",
            "Number of characters:  76\n"
          ],
          "name": "stdout"
        }
      ]
    },
    {
      "cell_type": "markdown",
      "metadata": {
        "id": "7_fBbeWKU_Ib"
      },
      "source": [
        "  EXCERCISE-8\n",
        " \n",
        " \n",
        "8 Functions'\n",
        " \n",
        " \n",
        "a) Write a function ball collide that takes two balls as parameters and computes if they arecolliding. Your function should return a Boolean representing whether or not the balls arecolliding. Hint: Represent a ball on a plane as a tuple of (x, y, r), r being the radius If (distance between two balls centers) <= (sum of their radii) then (they are colliding)\n",
        " \n",
        " \n",
        "b) Find mean, median, mode for the given set of numbers in a list."
      ]
    },
    {
      "cell_type": "code",
      "metadata": {
        "colab": {
          "base_uri": "https://localhost:8080/"
        },
        "id": "q-BAZr3cU_yb",
        "outputId": "a3f3606b-b587-49ed-cc66-ec2f12198d25"
      },
      "source": [
        " \n",
        " import math\n",
        "def ballcollide(b1tup,b2tup):\n",
        "    x1=b1tup[0]\n",
        "    y1=b1tup[1]\n",
        "    x2=b2tup[0]\n",
        "    y2=b2tup[1]\n",
        "    r1=b1tup[2]\n",
        "    r2=b2tup[2]\n",
        " \n",
        " \n",
        "    d=math.sqrt((x2-x1)**2+(y2-y1)**2)\n",
        "    if(d<=r1+r2):\n",
        "      return True\n",
        "    else:\n",
        "        return False\n",
        " \n",
        " \n",
        "ball1=(1,2,3)\n",
        "ball2=(3,2,1)\n",
        "c=ballcollide(ball1,ball2)\n",
        "if(c):\n",
        "    print(\"balls are collided\")\n",
        "else:\n",
        "    print(\"ball are not collided\")"
      ],
      "execution_count": null,
      "outputs": [
        {
          "output_type": "stream",
          "text": [
            "balls are collided\n"
          ],
          "name": "stdout"
        }
      ]
    },
    {
      "cell_type": "code",
      "metadata": {
        "colab": {
          "base_uri": "https://localhost:8080/"
        },
        "id": "5a-lqarTVenh",
        "outputId": "20fcbc5c-52a4-4ad0-e1c1-0daedf7595bf"
      },
      "source": [
        " \n",
        " def mean(numlist):\n",
        "    return sum(numlist)/len(numlist)\n",
        "def median(numlist):\n",
        "    numlist.sort()\n",
        "    print(numlist)\n",
        "    n=len(numlist)\n",
        "    print(\"total\",n)\n",
        "    mid=n//2\n",
        "    print(\"mid:\",mid)\n",
        "    if(n%2==0):\n",
        "        return numlist[mid]\n",
        "    else:\n",
        "        return (numlist[mid-1]+numlist[mid])/2\n",
        "def mode(numlist):\n",
        "    numlist.sort()\n",
        "    temp=[]\n",
        "    i=0\n",
        "    while i<len(numlist):\n",
        "        temp.append(numlist.count(numlist[i]))\n",
        "        i+=1\n",
        "    dic=dict(zip(numlist,temp))\n",
        "    modes={k for k, v in dic.items() if(v==max(temp))}\n",
        "    return modes\n",
        "list=[1,1,2,2,3,4,5,3,3]\n",
        "print(\"mean of guive list:\",mean(list))\n",
        "print(\"median of guive list:\",median(list))\n",
        " \n",
        "print(\"mode of guive list:\",mode(list))"
      ],
      "execution_count": null,
      "outputs": [
        {
          "output_type": "stream",
          "text": [
            "mean of guive list: 2.6666666666666665\n",
            "[1, 1, 2, 2, 3, 3, 3, 4, 5]\n",
            "total 9\n",
            "mid: 4\n",
            "median of guive list: 2.5\n",
            "mode of guive list: {3}\n"
          ],
          "name": "stdout"
        }
      ]
    },
    {
      "cell_type": "markdown",
      "metadata": {
        "id": "FoWFC6WwVi9D"
      },
      "source": [
        "  Exercise - 9 \n",
        " \n",
        " \n",
        "Functions - Continued\n",
        " \n",
        " \n",
        "a) Write a function nearly equal to test whether two strings are nearly equal. Two strings a and bare nearly equal when a can be generated by a single mutation on b.\n",
        " \n",
        " \n",
        "b) Write a function dup to find all duplicates in the list.\n",
        " \n",
        " \n",
        "c) Write a function unique to find all the unique elements of a list."
      ]
    },
    {
      "cell_type": "code",
      "metadata": {
        "colab": {
          "base_uri": "https://localhost:8080/"
        },
        "id": "rBFGJUShVj9j",
        "outputId": "ac97e3f2-5e67-49b2-e353-688aeb77d557"
      },
      "source": [
        " \n",
        " def nearlyeq(str1,str2):\n",
        "    count=0\n",
        "    i=j=0\n",
        "    ss=0\n",
        "    while(i<len(str1)and j<len(str2)):\n",
        "        if(str1[i]!=str2[j]):\n",
        "            count+=1\n",
        "        if(len(str1)>len(str2)):\n",
        "            i+=1\n",
        " \n",
        "        elif(len(str1)==len(str2)):\n",
        "            pass\n",
        "        else:\n",
        "            i-=1     \n",
        "        if(count>1):\n",
        "             ss-=1\n",
        "             \n",
        "        i+=1\n",
        "        j+=1\n",
        "        if(count<2):\n",
        "             ss+=1\n",
        " \n",
        "    return ss\n",
        "s1=input(\"enter a string 1:\")\n",
        "s2=input(\"enter the string2:\")\n",
        "t=nearlyeq(s1,s2)\n",
        "if(t>1):\n",
        "    print(\"neraly equal0\")\n",
        "else:\n",
        "    print(\"not nearly equal\")"
      ],
      "execution_count": null,
      "outputs": [
        {
          "output_type": "stream",
          "text": [
            "enter a string 1:Priyanka\n",
            "enter the string2:Adapa\n",
            "not nearly equal\n"
          ],
          "name": "stdout"
        }
      ]
    },
    {
      "cell_type": "code",
      "metadata": {
        "colab": {
          "base_uri": "https://localhost:8080/"
        },
        "id": "feScWfDEVubN",
        "outputId": "56cc1e65-393a-4ce1-8d61-4741def89d56"
      },
      "source": [
        " \n",
        " def dup(list):\n",
        "  list1=[]\n",
        "  for i in list:\n",
        "    count=list.count(i)\n",
        "    if(count>1 and (i not in list1)):\n",
        "        list1.append(i)\n",
        "        \n",
        "  print(\"the dups int he list are:\",list1)        \n",
        "list2=[1,2,1,2]\n",
        " \n",
        "dup(list2)"
      ],
      "execution_count": null,
      "outputs": [
        {
          "output_type": "stream",
          "text": [
            "the dups int he list are: [1, 2]\n"
          ],
          "name": "stdout"
        }
      ]
    },
    {
      "cell_type": "code",
      "metadata": {
        "colab": {
          "base_uri": "https://localhost:8080/"
        },
        "id": "l5A5avxVV0qK",
        "outputId": "a9414646-338a-46c2-a190-08ff0c0987b4"
      },
      "source": [
        " \n",
        " def unique(list1):\n",
        "  list2={}\n",
        " \n",
        "  for i in list1:\n",
        "    c=list1.count(i)\n",
        "    if c==1:\n",
        "      list2[i]=c\n",
        "  print(\"the unique elements in the list are:\",list2)\n",
        " \n",
        "list=[1,2,3,45,45,6,88,88,9]\n",
        "unique(list)"
      ],
      "execution_count": null,
      "outputs": [
        {
          "output_type": "stream",
          "text": [
            "the unique elements in the list are: {1: 1, 2: 1, 3: 1, 6: 1, 9: 1}\n"
          ],
          "name": "stdout"
        }
      ]
    },
    {
      "cell_type": "markdown",
      "metadata": {
        "id": "B0zen8v8V7WG"
      },
      "source": [
        "  Exercise - 10 \n",
        " \n",
        "Functions - Problem Solving\n",
        " \n",
        "a) Write a function cumulative product to compute cumulative product of a list of numbers.\n",
        " \n",
        "b) Write a function reverse to reverse a list. Without using the reverse function.\n",
        " \n",
        "c) Write function to compute gcd, lcm of two numbers. Each function shouldn’t exceed one line"
      ]
    },
    {
      "cell_type": "code",
      "metadata": {
        "colab": {
          "base_uri": "https://localhost:8080/"
        },
        "id": "euIqDwhPV8gP",
        "outputId": "ff0346e8-27d1-4ff0-aa5d-8598a0498425"
      },
      "source": [
        "def cum_prod(numlist):\n",
        "  prod=1\n",
        "  temp=[]\n",
        "  for i in numlist:\n",
        "    prod*=i\n",
        "    temp.append(prod)\n",
        "  return temp\n",
        "lst=[1,2,4,5,3]\n",
        "print(\"Given list is : \",lst)\n",
        "print(\"Cumulative product is: \",cum_prod(lst))"
      ],
      "execution_count": null,
      "outputs": [
        {
          "output_type": "stream",
          "text": [
            "Given list is :  [1, 2, 4, 5, 3]\n",
            "Cumulative product is:  [1, 2, 8, 40, 120]\n"
          ],
          "name": "stdout"
        }
      ]
    },
    {
      "cell_type": "code",
      "metadata": {
        "colab": {
          "base_uri": "https://localhost:8080/"
        },
        "id": "y3J7EuXQWP6U",
        "outputId": "53714404-59cf-4c98-df42-14f4880539f7"
      },
      "source": [
        " \n",
        " def reverse_list(numlist):\n",
        "    temp=list1[::-1]\n",
        "    numlist=temp\n",
        "    return temp\n",
        "list1=[1,2,3,4]\n",
        "print(\"giiven list is :\",list1)\n",
        "print(\"after reverse function:\",reverse_list(list1))\n",
        "print(\"after list is:\",list1)"
      ],
      "execution_count": null,
      "outputs": [
        {
          "output_type": "stream",
          "text": [
            "giiven list is : [1, 2, 3, 4]\n",
            "after reverse function: [4, 3, 2, 1]\n",
            "after list is: [1, 2, 3, 4]\n"
          ],
          "name": "stdout"
        }
      ]
    },
    {
      "cell_type": "code",
      "metadata": {
        "colab": {
          "base_uri": "https://localhost:8080/"
        },
        "id": "jTQ0cerAWS-3",
        "outputId": "e4d36b55-a05c-48bd-d443-83b7fa197dd3"
      },
      "source": [
        " \n",
        " gcd=lambda a,b: a if b==0 else gcd(a,a%b)\n",
        "lcm=lambda a,b: (a*b)/gcd(a,b)\n",
        " \n",
        "x=4\n",
        "y=24\n",
        "print(\"gcd=\",gcd(x,y))\n",
        "print(\"lcm=\",lcm(x,y))"
      ],
      "execution_count": null,
      "outputs": [
        {
          "output_type": "stream",
          "text": [
            "gcd= 4\n",
            "lcm= 24.0\n"
          ],
          "name": "stdout"
        }
      ]
    },
    {
      "cell_type": "markdown",
      "metadata": {
        "id": "Oz2T1kyFjhV7"
      },
      "source": [
        " Exercise-11\n",
        " \n",
        "Multi-D-Lists\n",
        " \n",
        "a) write a program that defines a matrix and prints\n",
        " \n",
        "b) write a program to perform addition of two square matrices\n",
        " \n",
        "c) write a program to perform multiplication of two square matrices"
      ]
    },
    {
      "cell_type": "code",
      "metadata": {
        "colab": {
          "base_uri": "https://localhost:8080/"
        },
        "id": "_IZ1KUgrjiQA",
        "outputId": "db2220c8-5b9b-4b25-db7e-c36746973194"
      },
      "source": [
        "2\n",
        " \n",
        " \n",
        "matA=[[]]\n",
        "rows=int(input(\"Enter row size of matrix: \"))\n",
        "cols=int(input(\"Enter column size of matrix: \"))\n",
        "matA=[[int(input(\"Enter[%d,%d] value: \"%(i,j)))for j in range(cols)]for i in range(rows)]\n",
        "print(\"matrix is: \")\n",
        "for i in range(rows):\n",
        "  for j in range(cols):\n",
        "    print(matA[i][j],end='\\t')\n",
        "  print()"
      ],
      "execution_count": null,
      "outputs": [
        {
          "output_type": "stream",
          "text": [
            "Enter row size of matrix: 2\n",
            "Enter column size of matrix: 2\n",
            "Enter[0,0] value: 1\n",
            "Enter[0,1] value: 2\n",
            "Enter[1,0] value: 3\n",
            "Enter[1,1] value: 4\n",
            "matrix is: \n",
            "1\t2\t\n",
            "3\t4\t\n"
          ],
          "name": "stdout"
        }
      ]
    },
    {
      "cell_type": "code",
      "metadata": {
        "colab": {
          "base_uri": "https://localhost:8080/"
        },
        "id": "z5pFvkxck8vC",
        "outputId": "d73ef131-11fc-4c6a-e101-e0c54785b992"
      },
      "source": [
        "4\n",
        "def matRead(r,c):\n",
        "  return[[int(input(\"[%d,%d]value:\"%(i,j)))for j in range(c)]for i in range(r)]\n",
        "def matDisp(mat,r,c):\n",
        "  for i in range(r):\n",
        "    for j in range(c):\n",
        "      print(mat[i][j],end='\\t')\n",
        "    print()\n",
        "matA=[[]]\n",
        "matB=[[]]       \n",
        "matSum=[[]]\n",
        "rows=int(input(\"Enter row size of the matrix: \"))\n",
        "cols=int(input(\"Enter column size of the matrix: \"))\n",
        "if rows==cols:\n",
        "  print(\"Enter Matrix-A elements: \")\n",
        "  matA=matRead(rows,cols)\n",
        " \n",
        "  print(\"Enter Matrix-B elements: \")\n",
        "  matB=matRead(rows,cols)\n",
        " \n",
        "  print(\"Matrix-A is: \")\n",
        "  matDisp(matA,rows,cols)\n",
        " \n",
        "  print(\"Matrix-B is: \")\n",
        "  matDisp(matB,rows,cols)\n",
        "  matSum=[[matA[i][j]+matB[i][j]for j in range(cols)]for i in range(rows)]\n",
        "  print(\"sum of matrices is: \")\n",
        "  matDisp(matSum,rows,cols)\n",
        "else:\n",
        "  print(\"Matrices addition is not possible\")"
      ],
      "execution_count": null,
      "outputs": [
        {
          "output_type": "stream",
          "text": [
            "Enter row size of the matrix: 2\n",
            "Enter column size of the matrix: 2\n",
            "Enter Matrix-A elements: \n",
            "[0,0]value:1\n",
            "[0,1]value:4\n",
            "[1,0]value:3\n",
            "[1,1]value:2\n",
            "Enter Matrix-B elements: \n",
            "[0,0]value:3\n",
            "[0,1]value:4\n",
            "[1,0]value:5\n",
            "[1,1]value:6\n",
            "Matrix-A is: \n",
            "1\t4\t\n",
            "3\t2\t\n",
            "Matrix-B is: \n",
            "3\t4\t\n",
            "5\t6\t\n",
            "sum of matrices is: \n",
            "4\t8\t\n",
            "8\t8\t\n"
          ],
          "name": "stdout"
        }
      ]
    },
    {
      "cell_type": "code",
      "metadata": {
        "colab": {
          "base_uri": "https://localhost:8080/"
        },
        "id": "sJa90mGslST5",
        "outputId": "e933aadb-1209-4431-a96c-cd13c6521636"
      },
      "source": [
        " \n",
        "def  matRead(r,c):  \n",
        "  return[[int(input(\"[%d,%d]value: \"%(i,j)))for j in range(c)]for i in range(r)]\n",
        "def matDisp(mat,r,c):\n",
        "  for i in range(r):\n",
        "    for j in range(c):\n",
        "      print(mat[i][j],end='\\t')\n",
        "matA=[[]]\n",
        "matB=[[]]\n",
        "matMul=[[]]\n",
        "rows=int(input(\"Enter row size of the Matrix: \"))\n",
        "cols=int(input(\"Enter column size of the Matrix: \"))\n",
        " \n",
        "if rows==cols:\n",
        "  print(\"Enter Matrix-A: \")\n",
        "  matA=matRead(rows,cols)\n",
        "  print(\" Enter Matrix-B: \")\n",
        "  matB=matRead(rows,cols)\n",
        " \n",
        "  matMul=[[0 for j in range(cols)]for i in range(rows)]\n",
        "  for i in range(rows):\n",
        "    for j in range(cols):\n",
        "      for k in range(cols):\n",
        "        matMul[i][j]+=matA[i][k]*matB[k][j]\n",
        "  print(\"Matrix-A is: \")\n",
        "  matDisp(matA,rows,cols)\n",
        " \n",
        "  print(\"Matrix-B is: \")\n",
        "  matDisp(matB,rows,cols)\n",
        " \n",
        "  print(\"Multiplication of matrices is: \")\n",
        "  matDisp(matMul,rows,cols)\n",
        "else:\n",
        "  print(\"Matrices Multiplication is not possible is\")"
      ],
      "execution_count": null,
      "outputs": [
        {
          "output_type": "stream",
          "text": [
            "Enter row size of the Matrix: 2\n",
            "Enter column size of the Matrix: 2\n",
            "Enter Matrix-A: \n",
            "[0,0]value: 1\n",
            "[0,1]value: 2\n",
            "[1,0]value: 3\n",
            "[1,1]value: 4\n",
            " Enter Matrix-B: \n",
            "[0,0]value: 5\n",
            "[0,1]value: 6\n",
            "[1,0]value: 7\n",
            "[1,1]value: 8\n",
            "Matrix-A is: \n",
            "1\t2\t3\t4\tMatrix-B is: \n",
            "5\t6\t7\t8\tMultiplication of matrices is: \n",
            "19\t22\t43\t50\t"
          ],
          "name": "stdout"
        }
      ]
    },
    {
      "cell_type": "markdown",
      "metadata": {
        "id": "P22VfrmUlmuF"
      },
      "source": [
        " Exercise-12\n",
        " \n",
        "Modules\n",
        " \n",
        "a) Install package requests,flasks and explore them.using(pip)\n",
        " \n",
        "b) write a script that imports requests and fetch content from the page.Eg(wiki)\n",
        " \n",
        "c) write a simple script that serves a simple HTTPResponse and simple HTML page"
      ]
    },
    {
      "cell_type": "markdown",
      "metadata": {
        "id": "AbveRY8rlzNM"
      },
      "source": [
        "  Exercise-13\n",
        " \n",
        "OOP\n",
        " \n",
        "a) class variables and instance variable and illustration of the self -variable"
      ]
    },
    {
      "cell_type": "code",
      "metadata": {
        "colab": {
          "base_uri": "https://localhost:8080/"
        },
        "id": "KcC7y3Zdl0SS",
        "outputId": "6fc5edeb-f0ae-4b0a-9735-d11318db260e"
      },
      "source": [
        " \n",
        "class Robot:\n",
        "    what=\"Machine\"\n",
        "    name=\"Chitti\"\n",
        "    version=1.0\n",
        "    speed=\"1THz\"\n",
        "    memory=\"1ZB\"\n",
        " \n",
        "    def update(upd):\n",
        "        upd.version=2.0\n",
        "        upd.speed=\"2THz\"\n",
        "        upd.memory=\"2ZB\"\n",
        " \n",
        "    def disp(self):\n",
        "        print(\"Myself is a\",robj.what)\n",
        "        print(\"MyName is a\",robj.name)\n",
        "        print(\"Version :\",robj.version)\n",
        "        print(\"Speed : \",robj.speed)\n",
        "        print(\"Memory: \",robj.memory)\n",
        " \n",
        "robj=Robot()\n",
        "robj.disp()\n",
        " \n",
        "print(\"---------------Update---------\")\n",
        "robj.update()\n",
        "robj.disp()"
      ],
      "execution_count": null,
      "outputs": [
        {
          "output_type": "stream",
          "text": [
            "Myself is a Machine\n",
            "MyName is a Chitti\n",
            "Version : 1.0\n",
            "Speed :  1THz\n",
            "Memory:  1ZB\n",
            "---------------Update---------\n",
            "Myself is a Machine\n",
            "MyName is a Chitti\n",
            "Version : 2.0\n",
            "Speed :  2THz\n",
            "Memory:  2ZB\n"
          ],
          "name": "stdout"
        }
      ]
    },
    {
      "cell_type": "code",
      "metadata": {
        "colab": {
          "base_uri": "https://localhost:8080/"
        },
        "id": "yBvsUsLMmIGs",
        "outputId": "4b09ffd0-39cc-421a-cd51-c512e1d920b9"
      },
      "source": [
        " \n",
        "class ATM:\n",
        "    def __init__(self):\n",
        "        self.balance=0\n",
        "        print(\"New Account\")\n",
        "        \n",
        "    def enquire(self):\n",
        "        print(\"Balance: \",self.balance)\n",
        "        \n",
        "    def deposit(self):\n",
        "        amount=int(input(\"Enter the Deposit Amount:\"))\n",
        "        self.balance+=amount\n",
        "        self.enquire()\n",
        " \n",
        "    def withdraw(self):\n",
        "        amount=int(input(\"Enter the Withdraw Amount: \"))\n",
        "        if self.balance<amount:\n",
        "            print(\"Insufficient Balance.....!\")\n",
        "        else:\n",
        "            self.balance-=amount\n",
        "            self.enquire()\n",
        " \n",
        "aobj=ATM()\n",
        "while(True):\n",
        "    print(\"*****Menu****\")\n",
        "    print(\"1.Deposit\")\n",
        "    print(\"2.Withdarw\")\n",
        "    print(\"3.Balance\")\n",
        "    print(\"0.Exit\")\n",
        "    ch=int(input(\"Enter Your Choice: \"))\n",
        "    if ch==0:\n",
        "        break\n",
        "    elif ch==1:\n",
        "        aobj.deposit()\n",
        "    elif ch==2:\n",
        "        aobj.withdraw()\n",
        "    elif ch==3:\n",
        "        aobj.enquire()\n",
        "    else:\n",
        "        print(\"Invalid choice:\")\n",
        "        pass"
      ],
      "execution_count": null,
      "outputs": [
        {
          "output_type": "stream",
          "text": [
            "New Account\n",
            "*****Menu****\n",
            "1.Deposit\n",
            "2.Withdarw\n",
            "3.Balance\n",
            "0.Exit\n",
            "Enter Your Choice: 3\n",
            "Balance:  0\n",
            "*****Menu****\n",
            "1.Deposit\n",
            "2.Withdarw\n",
            "3.Balance\n",
            "0.Exit\n",
            "Enter Your Choice: 1\n",
            "Enter the Deposit Amount:2\n",
            "Balance:  2\n",
            "*****Menu****\n",
            "1.Deposit\n",
            "2.Withdarw\n",
            "3.Balance\n",
            "0.Exit\n",
            "Enter Your Choice: 3\n",
            "Balance:  2\n",
            "*****Menu****\n",
            "1.Deposit\n",
            "2.Withdarw\n",
            "3.Balance\n",
            "0.Exit\n",
            "Enter Your Choice: 4\n",
            "Invalid choice:\n",
            "*****Menu****\n",
            "1.Deposit\n",
            "2.Withdarw\n",
            "3.Balance\n",
            "0.Exit\n",
            "Enter Your Choice: 0\n"
          ],
          "name": "stdout"
        }
      ]
    },
    {
      "cell_type": "markdown",
      "metadata": {
        "id": "G7KkdaACVjn3"
      },
      "source": [
        "# Exercise14:**GUI,Graphics**      \n",
        "##1.Write a GUI for an Expression Calculator using tk.    \n",
        "##2.Write a program to implement the following figures using turtle"
      ]
    },
    {
      "cell_type": "code",
      "metadata": {
        "colab": {
          "base_uri": "https://localhost:8080/",
          "height": 665
        },
        "id": "c-ARB78jVlwi",
        "outputId": "2cb27592-50e5-4d09-b3a4-08bc02b9b81d"
      },
      "source": [
        " import turtle\n",
        "c=[\"red\",\"green\",\"blue\"]\n",
        "i=0\n",
        "turtle.pensize(5)\n",
        " \n",
        "for angle in range(0,360,30):\n",
        "    if i>2:\n",
        "        i=0\n",
        "    turtle.color(c[i])\n",
        "    turtle.seth(angle)\n",
        "    turtle.circle(50)\n",
        "    i+=1"
      ],
      "execution_count": null,
      "outputs": [
        {
          "output_type": "error",
          "ename": "TclError",
          "evalue": "ignored",
          "traceback": [
            "\u001b[0;31m---------------------------------------------------------------------------\u001b[0m",
            "\u001b[0;31mTclError\u001b[0m                                  Traceback (most recent call last)",
            "\u001b[0;32m<ipython-input-1-f30a06b16aa8>\u001b[0m in \u001b[0;36m<module>\u001b[0;34m()\u001b[0m\n\u001b[1;32m      2\u001b[0m \u001b[0mc\u001b[0m\u001b[0;34m=\u001b[0m\u001b[0;34m[\u001b[0m\u001b[0;34m\"red\"\u001b[0m\u001b[0;34m,\u001b[0m\u001b[0;34m\"green\"\u001b[0m\u001b[0;34m,\u001b[0m\u001b[0;34m\"blue\"\u001b[0m\u001b[0;34m]\u001b[0m\u001b[0;34m\u001b[0m\u001b[0;34m\u001b[0m\u001b[0m\n\u001b[1;32m      3\u001b[0m \u001b[0mi\u001b[0m\u001b[0;34m=\u001b[0m\u001b[0;36m0\u001b[0m\u001b[0;34m\u001b[0m\u001b[0;34m\u001b[0m\u001b[0m\n\u001b[0;32m----> 4\u001b[0;31m \u001b[0mturtle\u001b[0m\u001b[0;34m.\u001b[0m\u001b[0mpensize\u001b[0m\u001b[0;34m(\u001b[0m\u001b[0;36m5\u001b[0m\u001b[0;34m)\u001b[0m\u001b[0;34m\u001b[0m\u001b[0;34m\u001b[0m\u001b[0m\n\u001b[0m\u001b[1;32m      5\u001b[0m \u001b[0;34m\u001b[0m\u001b[0m\n\u001b[1;32m      6\u001b[0m \u001b[0;32mfor\u001b[0m \u001b[0mangle\u001b[0m \u001b[0;32min\u001b[0m \u001b[0mrange\u001b[0m\u001b[0;34m(\u001b[0m\u001b[0;36m0\u001b[0m\u001b[0;34m,\u001b[0m\u001b[0;36m360\u001b[0m\u001b[0;34m,\u001b[0m\u001b[0;36m30\u001b[0m\u001b[0;34m)\u001b[0m\u001b[0;34m:\u001b[0m\u001b[0;34m\u001b[0m\u001b[0;34m\u001b[0m\u001b[0m\n",
            "\u001b[0;32m/usr/lib/python3.7/turtle.py\u001b[0m in \u001b[0;36mpensize\u001b[0;34m(width)\u001b[0m\n",
            "\u001b[0;32m/usr/lib/python3.7/turtle.py\u001b[0m in \u001b[0;36m__init__\u001b[0;34m(self, shape, undobuffersize, visible)\u001b[0m\n\u001b[1;32m   3810\u001b[0m                  visible=_CFG[\"visible\"]):\n\u001b[1;32m   3811\u001b[0m         \u001b[0;32mif\u001b[0m \u001b[0mTurtle\u001b[0m\u001b[0;34m.\u001b[0m\u001b[0m_screen\u001b[0m \u001b[0;32mis\u001b[0m \u001b[0;32mNone\u001b[0m\u001b[0;34m:\u001b[0m\u001b[0;34m\u001b[0m\u001b[0;34m\u001b[0m\u001b[0m\n\u001b[0;32m-> 3812\u001b[0;31m             \u001b[0mTurtle\u001b[0m\u001b[0;34m.\u001b[0m\u001b[0m_screen\u001b[0m \u001b[0;34m=\u001b[0m \u001b[0mScreen\u001b[0m\u001b[0;34m(\u001b[0m\u001b[0;34m)\u001b[0m\u001b[0;34m\u001b[0m\u001b[0;34m\u001b[0m\u001b[0m\n\u001b[0m\u001b[1;32m   3813\u001b[0m         RawTurtle.__init__(self, Turtle._screen,\n\u001b[1;32m   3814\u001b[0m                            \u001b[0mshape\u001b[0m\u001b[0;34m=\u001b[0m\u001b[0mshape\u001b[0m\u001b[0;34m,\u001b[0m\u001b[0;34m\u001b[0m\u001b[0;34m\u001b[0m\u001b[0m\n",
            "\u001b[0;32m/usr/lib/python3.7/turtle.py\u001b[0m in \u001b[0;36mScreen\u001b[0;34m()\u001b[0m\n\u001b[1;32m   3660\u001b[0m     else return the existing one.\"\"\"\n\u001b[1;32m   3661\u001b[0m     \u001b[0;32mif\u001b[0m \u001b[0mTurtle\u001b[0m\u001b[0;34m.\u001b[0m\u001b[0m_screen\u001b[0m \u001b[0;32mis\u001b[0m \u001b[0;32mNone\u001b[0m\u001b[0;34m:\u001b[0m\u001b[0;34m\u001b[0m\u001b[0;34m\u001b[0m\u001b[0m\n\u001b[0;32m-> 3662\u001b[0;31m         \u001b[0mTurtle\u001b[0m\u001b[0;34m.\u001b[0m\u001b[0m_screen\u001b[0m \u001b[0;34m=\u001b[0m \u001b[0m_Screen\u001b[0m\u001b[0;34m(\u001b[0m\u001b[0;34m)\u001b[0m\u001b[0;34m\u001b[0m\u001b[0;34m\u001b[0m\u001b[0m\n\u001b[0m\u001b[1;32m   3663\u001b[0m     \u001b[0;32mreturn\u001b[0m \u001b[0mTurtle\u001b[0m\u001b[0;34m.\u001b[0m\u001b[0m_screen\u001b[0m\u001b[0;34m\u001b[0m\u001b[0;34m\u001b[0m\u001b[0m\n\u001b[1;32m   3664\u001b[0m \u001b[0;34m\u001b[0m\u001b[0m\n",
            "\u001b[0;32m/usr/lib/python3.7/turtle.py\u001b[0m in \u001b[0;36m__init__\u001b[0;34m(self)\u001b[0m\n\u001b[1;32m   3676\u001b[0m         \u001b[0;31m# preserved (perhaps by passing it as an optional parameter)\u001b[0m\u001b[0;34m\u001b[0m\u001b[0;34m\u001b[0m\u001b[0;34m\u001b[0m\u001b[0m\n\u001b[1;32m   3677\u001b[0m         \u001b[0;32mif\u001b[0m \u001b[0m_Screen\u001b[0m\u001b[0;34m.\u001b[0m\u001b[0m_root\u001b[0m \u001b[0;32mis\u001b[0m \u001b[0;32mNone\u001b[0m\u001b[0;34m:\u001b[0m\u001b[0;34m\u001b[0m\u001b[0;34m\u001b[0m\u001b[0m\n\u001b[0;32m-> 3678\u001b[0;31m             \u001b[0m_Screen\u001b[0m\u001b[0;34m.\u001b[0m\u001b[0m_root\u001b[0m \u001b[0;34m=\u001b[0m \u001b[0mself\u001b[0m\u001b[0;34m.\u001b[0m\u001b[0m_root\u001b[0m \u001b[0;34m=\u001b[0m \u001b[0m_Root\u001b[0m\u001b[0;34m(\u001b[0m\u001b[0;34m)\u001b[0m\u001b[0;34m\u001b[0m\u001b[0;34m\u001b[0m\u001b[0m\n\u001b[0m\u001b[1;32m   3679\u001b[0m             \u001b[0mself\u001b[0m\u001b[0;34m.\u001b[0m\u001b[0m_root\u001b[0m\u001b[0;34m.\u001b[0m\u001b[0mtitle\u001b[0m\u001b[0;34m(\u001b[0m\u001b[0m_Screen\u001b[0m\u001b[0;34m.\u001b[0m\u001b[0m_title\u001b[0m\u001b[0;34m)\u001b[0m\u001b[0;34m\u001b[0m\u001b[0;34m\u001b[0m\u001b[0m\n\u001b[1;32m   3680\u001b[0m             \u001b[0mself\u001b[0m\u001b[0;34m.\u001b[0m\u001b[0m_root\u001b[0m\u001b[0;34m.\u001b[0m\u001b[0mondestroy\u001b[0m\u001b[0;34m(\u001b[0m\u001b[0mself\u001b[0m\u001b[0;34m.\u001b[0m\u001b[0m_destroy\u001b[0m\u001b[0;34m)\u001b[0m\u001b[0;34m\u001b[0m\u001b[0;34m\u001b[0m\u001b[0m\n",
            "\u001b[0;32m/usr/lib/python3.7/turtle.py\u001b[0m in \u001b[0;36m__init__\u001b[0;34m(self)\u001b[0m\n\u001b[1;32m    432\u001b[0m     \u001b[0;34m\"\"\"Root class for Screen based on Tkinter.\"\"\"\u001b[0m\u001b[0;34m\u001b[0m\u001b[0;34m\u001b[0m\u001b[0m\n\u001b[1;32m    433\u001b[0m     \u001b[0;32mdef\u001b[0m \u001b[0m__init__\u001b[0m\u001b[0;34m(\u001b[0m\u001b[0mself\u001b[0m\u001b[0;34m)\u001b[0m\u001b[0;34m:\u001b[0m\u001b[0;34m\u001b[0m\u001b[0;34m\u001b[0m\u001b[0m\n\u001b[0;32m--> 434\u001b[0;31m         \u001b[0mTK\u001b[0m\u001b[0;34m.\u001b[0m\u001b[0mTk\u001b[0m\u001b[0;34m.\u001b[0m\u001b[0m__init__\u001b[0m\u001b[0;34m(\u001b[0m\u001b[0mself\u001b[0m\u001b[0;34m)\u001b[0m\u001b[0;34m\u001b[0m\u001b[0;34m\u001b[0m\u001b[0m\n\u001b[0m\u001b[1;32m    435\u001b[0m \u001b[0;34m\u001b[0m\u001b[0m\n\u001b[1;32m    436\u001b[0m     \u001b[0;32mdef\u001b[0m \u001b[0msetupcanvas\u001b[0m\u001b[0;34m(\u001b[0m\u001b[0mself\u001b[0m\u001b[0;34m,\u001b[0m \u001b[0mwidth\u001b[0m\u001b[0;34m,\u001b[0m \u001b[0mheight\u001b[0m\u001b[0;34m,\u001b[0m \u001b[0mcwidth\u001b[0m\u001b[0;34m,\u001b[0m \u001b[0mcheight\u001b[0m\u001b[0;34m)\u001b[0m\u001b[0;34m:\u001b[0m\u001b[0;34m\u001b[0m\u001b[0;34m\u001b[0m\u001b[0m\n",
            "\u001b[0;32m/usr/lib/python3.7/tkinter/__init__.py\u001b[0m in \u001b[0;36m__init__\u001b[0;34m(self, screenName, baseName, className, useTk, sync, use)\u001b[0m\n\u001b[1;32m   2021\u001b[0m                 \u001b[0mbaseName\u001b[0m \u001b[0;34m=\u001b[0m \u001b[0mbaseName\u001b[0m \u001b[0;34m+\u001b[0m \u001b[0mext\u001b[0m\u001b[0;34m\u001b[0m\u001b[0;34m\u001b[0m\u001b[0m\n\u001b[1;32m   2022\u001b[0m         \u001b[0minteractive\u001b[0m \u001b[0;34m=\u001b[0m \u001b[0;36m0\u001b[0m\u001b[0;34m\u001b[0m\u001b[0;34m\u001b[0m\u001b[0m\n\u001b[0;32m-> 2023\u001b[0;31m         \u001b[0mself\u001b[0m\u001b[0;34m.\u001b[0m\u001b[0mtk\u001b[0m \u001b[0;34m=\u001b[0m \u001b[0m_tkinter\u001b[0m\u001b[0;34m.\u001b[0m\u001b[0mcreate\u001b[0m\u001b[0;34m(\u001b[0m\u001b[0mscreenName\u001b[0m\u001b[0;34m,\u001b[0m \u001b[0mbaseName\u001b[0m\u001b[0;34m,\u001b[0m \u001b[0mclassName\u001b[0m\u001b[0;34m,\u001b[0m \u001b[0minteractive\u001b[0m\u001b[0;34m,\u001b[0m \u001b[0mwantobjects\u001b[0m\u001b[0;34m,\u001b[0m \u001b[0museTk\u001b[0m\u001b[0;34m,\u001b[0m \u001b[0msync\u001b[0m\u001b[0;34m,\u001b[0m \u001b[0muse\u001b[0m\u001b[0;34m)\u001b[0m\u001b[0;34m\u001b[0m\u001b[0;34m\u001b[0m\u001b[0m\n\u001b[0m\u001b[1;32m   2024\u001b[0m         \u001b[0;32mif\u001b[0m \u001b[0museTk\u001b[0m\u001b[0;34m:\u001b[0m\u001b[0;34m\u001b[0m\u001b[0;34m\u001b[0m\u001b[0m\n\u001b[1;32m   2025\u001b[0m             \u001b[0mself\u001b[0m\u001b[0;34m.\u001b[0m\u001b[0m_loadtk\u001b[0m\u001b[0;34m(\u001b[0m\u001b[0;34m)\u001b[0m\u001b[0;34m\u001b[0m\u001b[0;34m\u001b[0m\u001b[0m\n",
            "\u001b[0;31mTclError\u001b[0m: no display name and no $DISPLAY environment variable"
          ]
        }
      ]
    },
    {
      "cell_type": "code",
      "metadata": {
        "colab": {
          "base_uri": "https://localhost:8080/",
          "height": 648
        },
        "id": "AjKrHGNrVvCX",
        "outputId": "a6518d81-255e-493a-a277-9f6d2357358d"
      },
      "source": [
        " import turtle\n",
        "turtle.pensize(1)\n",
        " \n",
        "for i in range(36):\n",
        "    for j in range(4):\n",
        "        turtle.forward(70)\n",
        "        turtle.left(90)\n",
        "    turtle.left(10)"
      ],
      "execution_count": null,
      "outputs": [
        {
          "output_type": "error",
          "ename": "TclError",
          "evalue": "ignored",
          "traceback": [
            "\u001b[0;31m---------------------------------------------------------------------------\u001b[0m",
            "\u001b[0;31mTclError\u001b[0m                                  Traceback (most recent call last)",
            "\u001b[0;32m<ipython-input-2-23810faf8a59>\u001b[0m in \u001b[0;36m<module>\u001b[0;34m()\u001b[0m\n\u001b[1;32m      1\u001b[0m \u001b[0;32mimport\u001b[0m \u001b[0mturtle\u001b[0m\u001b[0;34m\u001b[0m\u001b[0;34m\u001b[0m\u001b[0m\n\u001b[0;32m----> 2\u001b[0;31m \u001b[0mturtle\u001b[0m\u001b[0;34m.\u001b[0m\u001b[0mpensize\u001b[0m\u001b[0;34m(\u001b[0m\u001b[0;36m1\u001b[0m\u001b[0;34m)\u001b[0m\u001b[0;34m\u001b[0m\u001b[0;34m\u001b[0m\u001b[0m\n\u001b[0m\u001b[1;32m      3\u001b[0m \u001b[0;34m\u001b[0m\u001b[0m\n\u001b[1;32m      4\u001b[0m \u001b[0;32mfor\u001b[0m \u001b[0mi\u001b[0m \u001b[0;32min\u001b[0m \u001b[0mrange\u001b[0m\u001b[0;34m(\u001b[0m\u001b[0;36m36\u001b[0m\u001b[0;34m)\u001b[0m\u001b[0;34m:\u001b[0m\u001b[0;34m\u001b[0m\u001b[0;34m\u001b[0m\u001b[0m\n\u001b[1;32m      5\u001b[0m    \u001b[0;32mfor\u001b[0m \u001b[0mj\u001b[0m \u001b[0;32min\u001b[0m \u001b[0mrange\u001b[0m\u001b[0;34m(\u001b[0m\u001b[0;36m4\u001b[0m\u001b[0;34m)\u001b[0m\u001b[0;34m:\u001b[0m\u001b[0;34m\u001b[0m\u001b[0;34m\u001b[0m\u001b[0m\n",
            "\u001b[0;32m/usr/lib/python3.7/turtle.py\u001b[0m in \u001b[0;36mpensize\u001b[0;34m(width)\u001b[0m\n",
            "\u001b[0;32m/usr/lib/python3.7/turtle.py\u001b[0m in \u001b[0;36m__init__\u001b[0;34m(self, shape, undobuffersize, visible)\u001b[0m\n\u001b[1;32m   3810\u001b[0m                  visible=_CFG[\"visible\"]):\n\u001b[1;32m   3811\u001b[0m         \u001b[0;32mif\u001b[0m \u001b[0mTurtle\u001b[0m\u001b[0;34m.\u001b[0m\u001b[0m_screen\u001b[0m \u001b[0;32mis\u001b[0m \u001b[0;32mNone\u001b[0m\u001b[0;34m:\u001b[0m\u001b[0;34m\u001b[0m\u001b[0;34m\u001b[0m\u001b[0m\n\u001b[0;32m-> 3812\u001b[0;31m             \u001b[0mTurtle\u001b[0m\u001b[0;34m.\u001b[0m\u001b[0m_screen\u001b[0m \u001b[0;34m=\u001b[0m \u001b[0mScreen\u001b[0m\u001b[0;34m(\u001b[0m\u001b[0;34m)\u001b[0m\u001b[0;34m\u001b[0m\u001b[0;34m\u001b[0m\u001b[0m\n\u001b[0m\u001b[1;32m   3813\u001b[0m         RawTurtle.__init__(self, Turtle._screen,\n\u001b[1;32m   3814\u001b[0m                            \u001b[0mshape\u001b[0m\u001b[0;34m=\u001b[0m\u001b[0mshape\u001b[0m\u001b[0;34m,\u001b[0m\u001b[0;34m\u001b[0m\u001b[0;34m\u001b[0m\u001b[0m\n",
            "\u001b[0;32m/usr/lib/python3.7/turtle.py\u001b[0m in \u001b[0;36mScreen\u001b[0;34m()\u001b[0m\n\u001b[1;32m   3660\u001b[0m     else return the existing one.\"\"\"\n\u001b[1;32m   3661\u001b[0m     \u001b[0;32mif\u001b[0m \u001b[0mTurtle\u001b[0m\u001b[0;34m.\u001b[0m\u001b[0m_screen\u001b[0m \u001b[0;32mis\u001b[0m \u001b[0;32mNone\u001b[0m\u001b[0;34m:\u001b[0m\u001b[0;34m\u001b[0m\u001b[0;34m\u001b[0m\u001b[0m\n\u001b[0;32m-> 3662\u001b[0;31m         \u001b[0mTurtle\u001b[0m\u001b[0;34m.\u001b[0m\u001b[0m_screen\u001b[0m \u001b[0;34m=\u001b[0m \u001b[0m_Screen\u001b[0m\u001b[0;34m(\u001b[0m\u001b[0;34m)\u001b[0m\u001b[0;34m\u001b[0m\u001b[0;34m\u001b[0m\u001b[0m\n\u001b[0m\u001b[1;32m   3663\u001b[0m     \u001b[0;32mreturn\u001b[0m \u001b[0mTurtle\u001b[0m\u001b[0;34m.\u001b[0m\u001b[0m_screen\u001b[0m\u001b[0;34m\u001b[0m\u001b[0;34m\u001b[0m\u001b[0m\n\u001b[1;32m   3664\u001b[0m \u001b[0;34m\u001b[0m\u001b[0m\n",
            "\u001b[0;32m/usr/lib/python3.7/turtle.py\u001b[0m in \u001b[0;36m__init__\u001b[0;34m(self)\u001b[0m\n\u001b[1;32m   3676\u001b[0m         \u001b[0;31m# preserved (perhaps by passing it as an optional parameter)\u001b[0m\u001b[0;34m\u001b[0m\u001b[0;34m\u001b[0m\u001b[0;34m\u001b[0m\u001b[0m\n\u001b[1;32m   3677\u001b[0m         \u001b[0;32mif\u001b[0m \u001b[0m_Screen\u001b[0m\u001b[0;34m.\u001b[0m\u001b[0m_root\u001b[0m \u001b[0;32mis\u001b[0m \u001b[0;32mNone\u001b[0m\u001b[0;34m:\u001b[0m\u001b[0;34m\u001b[0m\u001b[0;34m\u001b[0m\u001b[0m\n\u001b[0;32m-> 3678\u001b[0;31m             \u001b[0m_Screen\u001b[0m\u001b[0;34m.\u001b[0m\u001b[0m_root\u001b[0m \u001b[0;34m=\u001b[0m \u001b[0mself\u001b[0m\u001b[0;34m.\u001b[0m\u001b[0m_root\u001b[0m \u001b[0;34m=\u001b[0m \u001b[0m_Root\u001b[0m\u001b[0;34m(\u001b[0m\u001b[0;34m)\u001b[0m\u001b[0;34m\u001b[0m\u001b[0;34m\u001b[0m\u001b[0m\n\u001b[0m\u001b[1;32m   3679\u001b[0m             \u001b[0mself\u001b[0m\u001b[0;34m.\u001b[0m\u001b[0m_root\u001b[0m\u001b[0;34m.\u001b[0m\u001b[0mtitle\u001b[0m\u001b[0;34m(\u001b[0m\u001b[0m_Screen\u001b[0m\u001b[0;34m.\u001b[0m\u001b[0m_title\u001b[0m\u001b[0;34m)\u001b[0m\u001b[0;34m\u001b[0m\u001b[0;34m\u001b[0m\u001b[0m\n\u001b[1;32m   3680\u001b[0m             \u001b[0mself\u001b[0m\u001b[0;34m.\u001b[0m\u001b[0m_root\u001b[0m\u001b[0;34m.\u001b[0m\u001b[0mondestroy\u001b[0m\u001b[0;34m(\u001b[0m\u001b[0mself\u001b[0m\u001b[0;34m.\u001b[0m\u001b[0m_destroy\u001b[0m\u001b[0;34m)\u001b[0m\u001b[0;34m\u001b[0m\u001b[0;34m\u001b[0m\u001b[0m\n",
            "\u001b[0;32m/usr/lib/python3.7/turtle.py\u001b[0m in \u001b[0;36m__init__\u001b[0;34m(self)\u001b[0m\n\u001b[1;32m    432\u001b[0m     \u001b[0;34m\"\"\"Root class for Screen based on Tkinter.\"\"\"\u001b[0m\u001b[0;34m\u001b[0m\u001b[0;34m\u001b[0m\u001b[0m\n\u001b[1;32m    433\u001b[0m     \u001b[0;32mdef\u001b[0m \u001b[0m__init__\u001b[0m\u001b[0;34m(\u001b[0m\u001b[0mself\u001b[0m\u001b[0;34m)\u001b[0m\u001b[0;34m:\u001b[0m\u001b[0;34m\u001b[0m\u001b[0;34m\u001b[0m\u001b[0m\n\u001b[0;32m--> 434\u001b[0;31m         \u001b[0mTK\u001b[0m\u001b[0;34m.\u001b[0m\u001b[0mTk\u001b[0m\u001b[0;34m.\u001b[0m\u001b[0m__init__\u001b[0m\u001b[0;34m(\u001b[0m\u001b[0mself\u001b[0m\u001b[0;34m)\u001b[0m\u001b[0;34m\u001b[0m\u001b[0;34m\u001b[0m\u001b[0m\n\u001b[0m\u001b[1;32m    435\u001b[0m \u001b[0;34m\u001b[0m\u001b[0m\n\u001b[1;32m    436\u001b[0m     \u001b[0;32mdef\u001b[0m \u001b[0msetupcanvas\u001b[0m\u001b[0;34m(\u001b[0m\u001b[0mself\u001b[0m\u001b[0;34m,\u001b[0m \u001b[0mwidth\u001b[0m\u001b[0;34m,\u001b[0m \u001b[0mheight\u001b[0m\u001b[0;34m,\u001b[0m \u001b[0mcwidth\u001b[0m\u001b[0;34m,\u001b[0m \u001b[0mcheight\u001b[0m\u001b[0;34m)\u001b[0m\u001b[0;34m:\u001b[0m\u001b[0;34m\u001b[0m\u001b[0;34m\u001b[0m\u001b[0m\n",
            "\u001b[0;32m/usr/lib/python3.7/tkinter/__init__.py\u001b[0m in \u001b[0;36m__init__\u001b[0;34m(self, screenName, baseName, className, useTk, sync, use)\u001b[0m\n\u001b[1;32m   2021\u001b[0m                 \u001b[0mbaseName\u001b[0m \u001b[0;34m=\u001b[0m \u001b[0mbaseName\u001b[0m \u001b[0;34m+\u001b[0m \u001b[0mext\u001b[0m\u001b[0;34m\u001b[0m\u001b[0;34m\u001b[0m\u001b[0m\n\u001b[1;32m   2022\u001b[0m         \u001b[0minteractive\u001b[0m \u001b[0;34m=\u001b[0m \u001b[0;36m0\u001b[0m\u001b[0;34m\u001b[0m\u001b[0;34m\u001b[0m\u001b[0m\n\u001b[0;32m-> 2023\u001b[0;31m         \u001b[0mself\u001b[0m\u001b[0;34m.\u001b[0m\u001b[0mtk\u001b[0m \u001b[0;34m=\u001b[0m \u001b[0m_tkinter\u001b[0m\u001b[0;34m.\u001b[0m\u001b[0mcreate\u001b[0m\u001b[0;34m(\u001b[0m\u001b[0mscreenName\u001b[0m\u001b[0;34m,\u001b[0m \u001b[0mbaseName\u001b[0m\u001b[0;34m,\u001b[0m \u001b[0mclassName\u001b[0m\u001b[0;34m,\u001b[0m \u001b[0minteractive\u001b[0m\u001b[0;34m,\u001b[0m \u001b[0mwantobjects\u001b[0m\u001b[0;34m,\u001b[0m \u001b[0museTk\u001b[0m\u001b[0;34m,\u001b[0m \u001b[0msync\u001b[0m\u001b[0;34m,\u001b[0m \u001b[0muse\u001b[0m\u001b[0;34m)\u001b[0m\u001b[0;34m\u001b[0m\u001b[0;34m\u001b[0m\u001b[0m\n\u001b[0m\u001b[1;32m   2024\u001b[0m         \u001b[0;32mif\u001b[0m \u001b[0museTk\u001b[0m\u001b[0;34m:\u001b[0m\u001b[0;34m\u001b[0m\u001b[0;34m\u001b[0m\u001b[0m\n\u001b[1;32m   2025\u001b[0m             \u001b[0mself\u001b[0m\u001b[0;34m.\u001b[0m\u001b[0m_loadtk\u001b[0m\u001b[0;34m(\u001b[0m\u001b[0;34m)\u001b[0m\u001b[0;34m\u001b[0m\u001b[0;34m\u001b[0m\u001b[0m\n",
            "\u001b[0;31mTclError\u001b[0m: no display name and no $DISPLAY environment variable"
          ]
        }
      ]
    },
    {
      "cell_type": "markdown",
      "metadata": {
        "id": "CYHover2V1_P"
      },
      "source": [
        "# Exercise 15: **Testing**\n",
        "## a)Write a test case to check the function even numbers which return true on passing a list of all even numbers.\n",
        "##b) Write a test-case to check the function reverse string which returns the reversed string"
      ]
    },
    {
      "cell_type": "code",
      "metadata": {
        "colab": {
          "base_uri": "https://localhost:8080/"
        },
        "id": "JmYFsslhV2xt",
        "outputId": "91935b9b-ed75-4553-d2de-1e6c9d285e5f"
      },
      "source": [
        " def evnNo(num):\n",
        "    stat=True\n",
        " \n",
        "    for i in num:\n",
        "        if i%2 ==1:\n",
        "            stat=False\n",
        "            break\n",
        "    return stat\n",
        "        \n",
        "numbers=[]\n",
        "for i in range(0,2):\n",
        "    numbers.append(int(input(\"Enter a value\")))\n",
        "print(evnNo(numbers))"
      ],
      "execution_count": null,
      "outputs": [
        {
          "output_type": "stream",
          "text": [
            "Enter a value4\n",
            "Enter a value2\n",
            "True\n"
          ],
          "name": "stdout"
        }
      ]
    },
    {
      "cell_type": "code",
      "metadata": {
        "colab": {
          "base_uri": "https://localhost:8080/"
        },
        "id": "adveB9N2WAmq",
        "outputId": "582e4a1f-129b-4ed7-f236-2f9dceca52a5"
      },
      "source": [
        " \n",
        " \n",
        "def rev_str(st):\n",
        "    return st[::-1]\n",
        " \n",
        "st=\"swarnandhra\"\n",
        "print(\"Given String is: \",st)\n",
        " \n",
        "print(\"Reverse is: \",rev_str(st))"
      ],
      "execution_count": null,
      "outputs": [
        {
          "output_type": "stream",
          "text": [
            "Given String is:  swarnandhra\n",
            "Reverse is:  arhdnanraws\n"
          ],
          "name": "stdout"
        }
      ]
    }
  ]
}